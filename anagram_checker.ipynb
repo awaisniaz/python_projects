{
  "nbformat": 4,
  "nbformat_minor": 0,
  "metadata": {
    "colab": {
      "name": "anagram_checker.ipynb",
      "provenance": [],
      "authorship_tag": "ABX9TyO15qUJ7LbCB7SUFm5MrOnd",
      "include_colab_link": true
    },
    "kernelspec": {
      "name": "python3",
      "display_name": "Python 3"
    },
    "language_info": {
      "name": "python"
    }
  },
  "cells": [
    {
      "cell_type": "markdown",
      "metadata": {
        "id": "view-in-github",
        "colab_type": "text"
      },
      "source": [
        "<a href=\"https://colab.research.google.com/github/awaisniaz/python_projects/blob/main/anagram_checker.ipynb\" target=\"_parent\"><img src=\"https://colab.research.google.com/assets/colab-badge.svg\" alt=\"Open In Colab\"/></a>"
      ]
    },
    {
      "cell_type": "code",
      "metadata": {
        "colab": {
          "base_uri": "https://localhost:8080/"
        },
        "id": "ZIqzekH0tASH",
        "outputId": "57ba2f76-376a-4cf2-8b68-5bdeee7dd0a8"
      },
      "source": [
        "def anagram(word1,word2):\n",
        "  if sorted(word1) == sorted(word2):\n",
        "    print('anagram')\n",
        "  else:\n",
        "    print('No Anagram')\n",
        "\n",
        "anagram('awais','awasi')"
      ],
      "execution_count": 2,
      "outputs": [
        {
          "output_type": "stream",
          "text": [
            "anagram\n"
          ],
          "name": "stdout"
        }
      ]
    }
  ]
}