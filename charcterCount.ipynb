{
  "nbformat": 4,
  "nbformat_minor": 0,
  "metadata": {
    "colab": {
      "name": "charcterCount.ipynb",
      "provenance": [],
      "collapsed_sections": [],
      "authorship_tag": "ABX9TyOvL1uDO3QcER1AEb7JEQwi",
      "include_colab_link": true
    },
    "kernelspec": {
      "name": "python3",
      "display_name": "Python 3"
    },
    "language_info": {
      "name": "python"
    }
  },
  "cells": [
    {
      "cell_type": "markdown",
      "metadata": {
        "id": "view-in-github",
        "colab_type": "text"
      },
      "source": [
        "<a href=\"https://colab.research.google.com/github/awaisniaz/python_projects/blob/main/charcterCount.ipynb\" target=\"_parent\"><img src=\"https://colab.research.google.com/assets/colab-badge.svg\" alt=\"Open In Colab\"/></a>"
      ]
    },
    {
      "cell_type": "code",
      "metadata": {
        "colab": {
          "base_uri": "https://localhost:8080/"
        },
        "id": "gFY_nH-Xk5jX",
        "outputId": "43914200-205b-4b27-a3a2-d30e1e78d40c"
      },
      "source": [
        "def characterCount(str):\n",
        "  count = {}\n",
        "\n",
        "  for i in str:\n",
        "    if i in count:\n",
        "      count[i]+=1\n",
        "    else:\n",
        "      count[i]=1\n",
        "\n",
        "  print(count)\n",
        "\n",
        "characterCount('I am Awais Niaz AND wHAT ABOUT YOU')\n"
      ],
      "execution_count": 2,
      "outputs": [
        {
          "output_type": "stream",
          "text": [
            "{'I': 1, ' ': 7, 'a': 3, 'm': 1, 'A': 4, 'w': 2, 'i': 2, 's': 1, 'N': 2, 'z': 1, 'D': 1, 'H': 1, 'T': 2, 'B': 1, 'O': 2, 'U': 2, 'Y': 1}\n"
          ],
          "name": "stdout"
        }
      ]
    }
  ]
}